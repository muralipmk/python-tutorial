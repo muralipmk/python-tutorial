{
 "cells": [
  {
   "cell_type": "markdown",
   "metadata": {},
   "source": [
    "# Import numpy module\n",
    "# Create numpy array manually"
   ]
  },
  {
   "cell_type": "code",
   "execution_count": 1,
   "metadata": {},
   "outputs": [],
   "source": [
    "import numpy as np"
   ]
  },
  {
   "cell_type": "code",
   "execution_count": 11,
   "metadata": {},
   "outputs": [
    {
     "name": "stdout",
     "output_type": "stream",
     "text": [
      "1D numpy array: [1 2 3]\n",
      "2D numpy array: [[1 2 3]\n",
      " [4 5 6]]\n",
      "2D numpy array: [[1 2 3]\n",
      " [4 5 6]]\n",
      "2D numpy array with datatype specified: [[1. 2. 3.]\n",
      " [4. 5. 6.]]\n"
     ]
    }
   ],
   "source": [
    "#create a 1D numpy array\n",
    "a= np.array([1,2,3])\n",
    "print('1D numpy array:', a)\n",
    "\n",
    "#create a 2D numpy array\n",
    "b= np.array([[1,2,3], [4,5,6]])\n",
    "print('2D numpy array:', b)\n",
    "\n",
    "#one more variation in creating 2D numpy array\n",
    "c= np.array(([1,2,3], [4,5,6]))\n",
    "print('2D numpy array:', c)\n",
    "\n",
    "#creating numpy array with specific datatype\n",
    "d= np.array([[1,2,3],[4,5,6]], dtype=float)\n",
    "print('2D numpy array with datatype specified:', d)"
   ]
  },
  {
   "cell_type": "markdown",
   "metadata": {},
   "source": [
    "# Basic array analysis"
   ]
  },
  {
   "cell_type": "code",
   "execution_count": 16,
   "metadata": {},
   "outputs": [
    {
     "name": "stdout",
     "output_type": "stream",
     "text": [
      "dim: 2, shape: (2, 3), size: 6, datatype: int64, itemsize: 8, data: <memory at 0x7fc868042630>\n"
     ]
    }
   ],
   "source": [
    "#Knowing array dimention, shape, size, datatype, itemsize, data\n",
    "print('dim: {}, shape: {}, size: {}, datatype: {}, itemsize: {}, data: {}'.format(b.ndim, b.shape, b.size, b.dtype, b.itemsize, b.data))"
   ]
  },
  {
   "cell_type": "markdown",
   "metadata": {},
   "source": [
    "# FNF numpy array creation :)"
   ]
  },
  {
   "cell_type": "code",
   "execution_count": 33,
   "metadata": {},
   "outputs": [
    {
     "name": "stdout",
     "output_type": "stream",
     "text": [
      "arange(10): [0 1 2 3 4 5 6 7 8 9]\n",
      "arange(2, 12): [ 2  3  4  5  6  7  8  9 10 11]\n",
      "arrange(2,12,2): [ 2  4  6  8 10]\n",
      "arrange(2,12,0.3): [ 2.   2.3  2.6  2.9  3.2  3.5  3.8  4.1  4.4  4.7  5.   5.3  5.6  5.9\n",
      "  6.2  6.5  6.8  7.1  7.4  7.7  8.   8.3  8.6  8.9  9.2  9.5  9.8 10.1\n",
      " 10.4 10.7 11.  11.3 11.6 11.9]\n",
      "linspace(2,12,3): [ 2.  7. 12.]\n",
      "zeros((2,3)): [[0. 0. 0.]\n",
      " [0. 0. 0.]]\n",
      "ones((2,3)): [[1. 1. 1.]\n",
      " [1. 1. 1.]]\n",
      "ones_like(x): [[1. 1. 1.]\n",
      " [1. 1. 1.]]\n",
      "zeros(100).reshape((10,10)): [[0. 0. 0. 0. 0. 0. 0. 0. 0. 0.]\n",
      " [0. 0. 0. 0. 0. 0. 0. 0. 0. 0.]\n",
      " [0. 0. 0. 0. 0. 0. 0. 0. 0. 0.]\n",
      " [0. 0. 0. 0. 0. 0. 0. 0. 0. 0.]\n",
      " [0. 0. 0. 0. 0. 0. 0. 0. 0. 0.]\n",
      " [0. 0. 0. 0. 0. 0. 0. 0. 0. 0.]\n",
      " [0. 0. 0. 0. 0. 0. 0. 0. 0. 0.]\n",
      " [0. 0. 0. 0. 0. 0. 0. 0. 0. 0.]\n",
      " [0. 0. 0. 0. 0. 0. 0. 0. 0. 0.]\n",
      " [0. 0. 0. 0. 0. 0. 0. 0. 0. 0.]]\n"
     ]
    }
   ],
   "source": [
    "#creat an array giving upper bound\n",
    "x= np.arange(10)\n",
    "print('arange(10): {}'.format(x))\n",
    "\n",
    "#creat array given range\n",
    "xrange= np.arange(2, 12)\n",
    "print('arange(2, 12): {}'.format(xrange))\n",
    "\n",
    "#create array given range and interval\n",
    "x= np.arange(2, 12, 2)\n",
    "print('arrange(2,12,2): {}'.format(x))\n",
    "\n",
    "x= np.arange(2, 12, 0.3)\n",
    "print('arrange(2,12,0.3): {}'.format(x))\n",
    "\n",
    "#Specify only certain length of array then we can use linespace function\n",
    "x= np.linspace(2,12,3)\n",
    "print('linspace(2,12,3): {}'.format(x))\n",
    "\n",
    "#create an array with zeros\n",
    "x= np.zeros((2,3))\n",
    "print('zeros((2,3)): {}'.format(x))\n",
    "\n",
    "#create an array with ones\n",
    "x= np.ones((2,3))\n",
    "print('ones((2,3)): {}'.format(x))\n",
    "\n",
    "x= np.ones_like(x)\n",
    "print('ones_like(x): {}'.format(x))\n",
    "\n",
    "#reshape an array\n",
    "z= np.zeros(100).reshape((10,10))\n",
    "print('zeros(100).reshape((10,10)): {}'.format(z))"
   ]
  },
  {
   "cell_type": "code",
   "execution_count": null,
   "metadata": {},
   "outputs": [],
   "source": []
  }
 ],
 "metadata": {
  "kernelspec": {
   "display_name": "Python 3",
   "language": "python",
   "name": "python3"
  },
  "language_info": {
   "codemirror_mode": {
    "name": "ipython",
    "version": 3
   },
   "file_extension": ".py",
   "mimetype": "text/x-python",
   "name": "python",
   "nbconvert_exporter": "python",
   "pygments_lexer": "ipython3",
   "version": "3.7.3"
  }
 },
 "nbformat": 4,
 "nbformat_minor": 2
}
